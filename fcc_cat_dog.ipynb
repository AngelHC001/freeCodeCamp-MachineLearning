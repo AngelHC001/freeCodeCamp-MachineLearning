{
  "cells": [
    {
      "cell_type": "code",
      "execution_count": 5,
      "metadata": {
        "id": "la_Oz6oLlub6",
        "outputId": "88b93282-dde8-45db-a172-7fce0a4318f5",
        "colab": {
          "base_uri": "https://localhost:8080/"
        }
      },
      "outputs": [
        {
          "output_type": "stream",
          "name": "stdout",
          "text": [
            "Colab only includes TensorFlow 2.x; %tensorflow_version has no effect.\n"
          ]
        }
      ],
      "source": [
        "try:\n",
        "  # This command only in Colab.\n",
        "  %tensorflow_version 2.x\n",
        "except Exception:\n",
        "  pass\n",
        "import tensorflow as tf\n",
        "\n",
        "from tensorflow.keras.models import Sequential\n",
        "from tensorflow.keras.layers import Dense, Conv2D, Flatten, Dropout, MaxPooling2D\n",
        "from tensorflow.keras.preprocessing.image import ImageDataGenerator\n",
        "\n",
        "import os\n",
        "import numpy as np\n",
        "import matplotlib.pyplot as plt"
      ]
    },
    {
      "cell_type": "code",
      "execution_count": 6,
      "metadata": {
        "id": "jaF8r6aOl48C",
        "collapsed": true,
        "outputId": "c0d99268-8e8d-409a-f002-45c9c65a8a9b",
        "colab": {
          "base_uri": "https://localhost:8080/"
        }
      },
      "outputs": [
        {
          "output_type": "stream",
          "name": "stdout",
          "text": [
            "--2025-09-17 22:10:49--  https://cdn.freecodecamp.org/project-data/cats-and-dogs/cats_and_dogs.zip\n",
            "Resolving cdn.freecodecamp.org (cdn.freecodecamp.org)... 104.26.3.33, 172.67.70.149, 104.26.2.33, ...\n",
            "Connecting to cdn.freecodecamp.org (cdn.freecodecamp.org)|104.26.3.33|:443... connected.\n",
            "HTTP request sent, awaiting response... 200 OK\n",
            "Length: 70702765 (67M) [application/zip]\n",
            "Saving to: ‘cats_and_dogs.zip.1’\n",
            "\n",
            "cats_and_dogs.zip.1 100%[===================>]  67.43M   161MB/s    in 0.4s    \n",
            "\n",
            "2025-09-17 22:10:49 (161 MB/s) - ‘cats_and_dogs.zip.1’ saved [70702765/70702765]\n",
            "\n",
            "Archive:  cats_and_dogs.zip\n",
            "replace cats_and_dogs/.DS_Store? [y]es, [n]o, [A]ll, [N]one, [r]ename: n\n",
            "replace __MACOSX/cats_and_dogs/._.DS_Store? [y]es, [n]o, [A]ll, [N]one, [r]ename: n\n",
            "replace cats_and_dogs/test/48.jpg? [y]es, [n]o, [A]ll, [N]one, [r]ename: n\n",
            "replace __MACOSX/cats_and_dogs/test/._48.jpg? [y]es, [n]o, [A]ll, [N]one, [r]ename: n\n",
            "replace cats_and_dogs/test/49.jpg? [y]es, [n]o, [A]ll, [N]one, [r]ename: n\n",
            "replace __MACOSX/cats_and_dogs/test/._49.jpg? [y]es, [n]o, [A]ll, [N]one, [r]ename: n\n",
            "replace cats_and_dogs/test/.DS_Store? [y]es, [n]o, [A]ll, [N]one, [r]ename: n\n",
            "replace __MACOSX/cats_and_dogs/test/._.DS_Store? [y]es, [n]o, [A]ll, [N]one, [r]ename: n\n",
            "replace cats_and_dogs/test/8.jpg? [y]es, [n]o, [A]ll, [N]one, [r]ename: n\n",
            "replace __MACOSX/cats_and_dogs/test/._8.jpg? [y]es, [n]o, [A]ll, [N]one, [r]ename: n\n",
            "replace cats_and_dogs/test/9.jpg? [y]es, [n]o, [A]ll, [N]one, [r]ename: n\n",
            "replace __MACOSX/cats_and_dogs/test/._9.jpg? [y]es, [n]o, [A]ll, [N]one, [r]ename: n\n",
            "replace cats_and_dogs/test/14.jpg? [y]es, [n]o, [A]ll, [N]one, [r]ename: n\n",
            "replace __MACOSX/cats_and_dogs/test/._14.jpg? [y]es, [n]o, [A]ll, [N]one, [r]ename: n\n",
            "replace cats_and_dogs/test/28.jpg? [y]es, [n]o, [A]ll, [N]one, [r]ename: n\n",
            "replace __MACOSX/cats_and_dogs/test/._28.jpg? [y]es, [n]o, [A]ll, [N]one, [r]ename: n\n",
            "replace cats_and_dogs/test/29.jpg? [y]es, [n]o, [A]ll, [N]one, [r]ename: n\n",
            "replace __MACOSX/cats_and_dogs/test/._29.jpg? [y]es, [n]o, [A]ll, [N]one, [r]ename: n\n",
            "replace cats_and_dogs/test/15.jpg? [y]es, [n]o, [A]ll, [N]one, [r]ename: n\n",
            "replace __MACOSX/cats_and_dogs/test/._15.jpg? [y]es, [n]o, [A]ll, [N]one, [r]ename: n\n",
            "replace cats_and_dogs/test/17.jpg? [y]es, [n]o, [A]ll, [N]one, [r]ename: n\n",
            "replace __MACOSX/cats_and_dogs/test/._17.jpg? [y]es, [n]o, [A]ll, [N]one, [r]ename: n\n",
            "replace cats_and_dogs/test/16.jpg? [y]es, [n]o, [A]ll, [N]one, [r]ename: n\n",
            "replace __MACOSX/cats_and_dogs/test/._16.jpg? [y]es, [n]o, [A]ll, [N]one, [r]ename: n\n",
            "replace cats_and_dogs/test/12.jpg? [y]es, [n]o, [A]ll, [N]one, [r]ename: n\n",
            "replace __MACOSX/cats_and_dogs/test/._12.jpg? [y]es, [n]o, [A]ll, [N]one, [r]ename: n\n",
            "replace cats_and_dogs/test/13.jpg? [y]es, [n]o, [A]ll, [N]one, [r]ename: n\n",
            "replace __MACOSX/cats_and_dogs/test/._13.jpg? [y]es, [n]o, [A]ll, [N]one, [r]ename: n\n",
            "replace cats_and_dogs/test/39.jpg? [y]es, [n]o, [A]ll, [N]one, [r]ename: n\n",
            "replace __MACOSX/cats_and_dogs/test/._39.jpg? [y]es, [n]o, [A]ll, [N]one, [r]ename: n\n",
            "replace cats_and_dogs/test/11.jpg? [y]es, [n]o, [A]ll, [N]one, [r]ename: n\n",
            "replace __MACOSX/cats_and_dogs/test/._11.jpg? [y]es, [n]o, [A]ll, [N]one, [r]ename: n\n",
            "replace cats_and_dogs/test/10.jpg? [y]es, [n]o, [A]ll, [N]one, [r]ename: n\n",
            "replace __MACOSX/cats_and_dogs/test/._10.jpg? [y]es, [n]o, [A]ll, [N]one, [r]ename: n\n",
            "replace cats_and_dogs/test/38.jpg? [y]es, [n]o, [A]ll, [N]one, [r]ename: n\n",
            "replace __MACOSX/cats_and_dogs/test/._38.jpg? [y]es, [n]o, [A]ll, [N]one, [r]ename: n\n",
            "replace cats_and_dogs/test/21.jpg? [y]es, [n]o, [A]ll, [N]one, [r]ename: n\n",
            "replace __MACOSX/cats_and_dogs/test/._21.jpg? [y]es, [n]o, [A]ll, [N]one, [r]ename: n\n",
            "replace cats_and_dogs/test/35.jpg? [y]es, [n]o, [A]ll, [N]one, [r]ename: n\n",
            "replace __MACOSX/cats_and_dogs/test/._35.jpg? [y]es, [n]o, [A]ll, [N]one, [r]ename: n\n",
            "replace cats_and_dogs/test/34.jpg? [y]es, [n]o, [A]ll, [N]one, [r]ename: n\n",
            "replace __MACOSX/cats_and_dogs/test/._34.jpg? [y]es, [n]o, [A]ll, [N]one, [r]ename: n\n",
            "replace cats_and_dogs/test/20.jpg? [y]es, [n]o, [A]ll, [N]one, [r]ename: n\n",
            "replace __MACOSX/cats_and_dogs/test/._20.jpg? [y]es, [n]o, [A]ll, [N]one, [r]ename: n\n",
            "replace cats_and_dogs/test/36.jpg? [y]es, [n]o, [A]ll, [N]one, [r]ename: n\n",
            "replace __MACOSX/cats_and_dogs/test/._36.jpg? [y]es, [n]o, [A]ll, [N]one, [r]ename: n\n",
            "replace cats_and_dogs/test/22.jpg? [y]es, [n]o, [A]ll, [N]one, [r]ename: n\n",
            "replace __MACOSX/cats_and_dogs/test/._22.jpg? [y]es, [n]o, [A]ll, [N]one, [r]ename: n\n",
            "replace cats_and_dogs/test/23.jpg? [y]es, [n]o, [A]ll, [N]one, [r]ename: n\n",
            "replace __MACOSX/cats_and_dogs/test/._23.jpg? [y]es, [n]o, [A]ll, [N]one, [r]ename: n\n",
            "replace cats_and_dogs/test/37.jpg? [y]es, [n]o, [A]ll, [N]one, [r]ename: n\n",
            "replace __MACOSX/cats_and_dogs/test/._37.jpg? [y]es, [n]o, [A]ll, [N]one, [r]ename: n\n",
            "replace cats_and_dogs/test/33.jpg? [y]es, [n]o, [A]ll, [N]one, [r]ename: n\n",
            "replace __MACOSX/cats_and_dogs/test/._33.jpg? [y]es, [n]o, [A]ll, [N]one, [r]ename: n\n",
            "replace cats_and_dogs/test/27.jpg? [y]es, [n]o, [A]ll, [N]one, [r]ename: n\n",
            "replace __MACOSX/cats_and_dogs/test/._27.jpg? [y]es, [n]o, [A]ll, [N]one, [r]ename: n\n",
            "replace cats_and_dogs/test/26.jpg? [y]es, [n]o, [A]ll, [N]one, [r]ename: n\n",
            "replace __MACOSX/cats_and_dogs/test/._26.jpg? [y]es, [n]o, [A]ll, [N]one, [r]ename: n\n",
            "replace cats_and_dogs/test/32.jpg? [y]es, [n]o, [A]ll, [N]one, [r]ename: n\n",
            "replace __MACOSX/cats_and_dogs/test/._32.jpg? [y]es, [n]o, [A]ll, [N]one, [r]ename: n\n",
            "replace cats_and_dogs/test/18.jpg? [y]es, [n]o, [A]ll, [N]one, [r]ename: n\n",
            "replace __MACOSX/cats_and_dogs/test/._18.jpg? [y]es, [n]o, [A]ll, [N]one, [r]ename: n\n",
            "replace cats_and_dogs/test/24.jpg? [y]es, [n]o, [A]ll, [N]one, [r]ename: n\n",
            "replace __MACOSX/cats_and_dogs/test/._24.jpg? [y]es, [n]o, [A]ll, [N]one, [r]ename: n\n",
            "replace cats_and_dogs/test/30.jpg? [y]es, [n]o, [A]ll, [N]one, [r]ename: n\n",
            "replace __MACOSX/cats_and_dogs/test/._30.jpg? [y]es, [n]o, [A]ll, [N]one, [r]ename: n\n",
            "replace cats_and_dogs/test/31.jpg? [y]es, [n]o, [A]ll, [N]one, [r]ename: n\n",
            "replace __MACOSX/cats_and_dogs/test/._31.jpg? [y]es, [n]o, [A]ll, [N]one, [r]ename: n\n",
            "replace cats_and_dogs/test/25.jpg? [y]es, [n]o, [A]ll, [N]one, [r]ename: n\n",
            "replace __MACOSX/cats_and_dogs/test/._25.jpg? [y]es, [n]o, [A]ll, [N]one, [r]ename: n\n",
            "replace cats_and_dogs/test/19.jpg? [y]es, [n]o, [A]ll, [N]one, [r]ename: n\n",
            "replace __MACOSX/cats_and_dogs/test/._19.jpg? [y]es, [n]o, [A]ll, [N]one, [r]ename: n\n",
            "replace cats_and_dogs/test/42.jpg? [y]es, [n]o, [A]ll, [N]one, [r]ename: n\n",
            "replace __MACOSX/cats_and_dogs/test/._42.jpg? [y]es, [n]o, [A]ll, [N]one, [r]ename: n\n",
            "replace cats_and_dogs/test/4.jpg? [y]es, [n]o, [A]ll, [N]one, [r]ename: n\n",
            "replace __MACOSX/cats_and_dogs/test/._4.jpg? [y]es, [n]o, [A]ll, [N]one, [r]ename: n\n",
            "replace cats_and_dogs/test/5.jpg? [y]es, [n]o, [A]ll, [N]one, [r]ename: n\n",
            "replace __MACOSX/cats_and_dogs/test/._5.jpg? [y]es, [n]o, [A]ll, [N]one, [r]ename: n\n",
            "replace cats_and_dogs/test/43.jpg? [y]es, [n]o, [A]ll, [N]one, [r]ename: n\n",
            "replace __MACOSX/cats_and_dogs/test/._43.jpg? [y]es, [n]o, [A]ll, [N]one, [r]ename: n\n",
            "replace cats_and_dogs/test/7.jpg? [y]es, [n]o, [A]ll, [N]one, [r]ename: n\n",
            "replace __MACOSX/cats_and_dogs/test/._7.jpg? [y]es, [n]o, [A]ll, [N]one, [r]ename: n\n",
            "replace cats_and_dogs/test/41.jpg? [y]es, [n]o, [A]ll, [N]one, [r]ename: n\n",
            "replace __MACOSX/cats_and_dogs/test/._41.jpg? [y]es, [n]o, [A]ll, [N]one, [r]ename: n\n",
            "replace cats_and_dogs/test/40.jpg? [y]es, [n]o, [A]ll, [N]one, [r]ename: n\n",
            "replace __MACOSX/cats_and_dogs/test/._40.jpg? [y]es, [n]o, [A]ll, [N]one, [r]ename: n\n",
            "replace cats_and_dogs/test/6.jpg? [y]es, [n]o, [A]ll, [N]one, [r]ename: n\n",
            "replace __MACOSX/cats_and_dogs/test/._6.jpg? [y]es, [n]o, [A]ll, [N]one, [r]ename: n\n",
            "replace cats_and_dogs/test/2.jpg? [y]es, [n]o, [A]ll, [N]one, [r]ename: n\n",
            "replace __MACOSX/cats_and_dogs/test/._2.jpg? [y]es, [n]o, [A]ll, [N]one, [r]ename: n\n",
            "replace cats_and_dogs/test/50.jpg? [y]es, [n]o, [A]ll, [N]one, [r]ename: n\n",
            "replace __MACOSX/cats_and_dogs/test/._50.jpg? [y]es, [n]o, [A]ll, [N]one, [r]ename: n\n",
            "replace cats_and_dogs/test/44.jpg? [y]es, [n]o, [A]ll, [N]one, [r]ename: n\n",
            "replace __MACOSX/cats_and_dogs/test/._44.jpg? [y]es, [n]o, [A]ll, [N]one, [r]ename: n\n",
            "replace cats_and_dogs/test/45.jpg? [y]es, [n]o, [A]ll, [N]one, [r]ename: n\n",
            "replace __MACOSX/cats_and_dogs/test/._45.jpg? [y]es, [n]o, [A]ll, [N]one, [r]ename: n\n",
            "replace cats_and_dogs/test/3.jpg? [y]es, [n]o, [A]ll, [N]one, [r]ename: n\n",
            "replace __MACOSX/cats_and_dogs/test/._3.jpg? [y]es, [n]o, [A]ll, [N]one, [r]ename: nn\n",
            "replace cats_and_dogs/test/47.jpg? [y]es, [n]o, [A]ll, [N]one, [r]ename: n\n",
            "replace __MACOSX/cats_and_dogs/test/._47.jpg? [y]es, [n]o, [A]ll, [N]one, [r]ename: n\n",
            "replace cats_and_dogs/test/1.jpg? [y]es, [n]o, [A]ll, [N]one, [r]ename: n\n",
            "replace __MACOSX/cats_and_dogs/test/._1.jpg? [y]es, [n]o, [A]ll, [N]one, [r]ename: n\n",
            "replace cats_and_dogs/test/46.jpg? [y]es, [n]o, [A]ll, [N]one, [r]ename: n\n",
            "replace __MACOSX/cats_and_dogs/test/._46.jpg? [y]es, [n]o, [A]ll, [N]one, [r]ename: n\n",
            "replace __MACOSX/cats_and_dogs/._test? [y]es, [n]o, [A]ll, [N]one, [r]ename: n\n",
            "replace cats_and_dogs/train/dogs/dog.775.jpg? [y]es, [n]o, [A]ll, [N]one, [r]ename: n\n",
            "replace __MACOSX/cats_and_dogs/train/dogs/._dog.775.jpg? [y]es, [n]o, [A]ll, [N]one, [r]ename: \n",
            "error:  invalid response [{ENTER}]\n",
            "replace __MACOSX/cats_and_dogs/train/dogs/._dog.775.jpg? [y]es, [n]o, [A]ll, [N]one, [r]ename: n\n",
            "replace cats_and_dogs/train/dogs/dog.761.jpg? [y]es, [n]o, [A]ll, [N]one, [r]ename: n\n",
            "replace __MACOSX/cats_and_dogs/train/dogs/._dog.761.jpg? [y]es, [n]o, [A]ll, [N]one, [r]ename: n\n",
            "replace cats_and_dogs/train/dogs/dog.991.jpg? [y]es, [n]o, [A]ll, [N]one, [r]ename: n\n",
            "replace __MACOSX/cats_and_dogs/train/dogs/._dog.991.jpg? [y]es, [n]o, [A]ll, [N]one, [r]ename: n\n",
            "replace cats_and_dogs/train/dogs/dog.749.jpg? [y]es, [n]o, [A]ll, [N]one, [r]ename: n\n",
            "replace __MACOSX/cats_and_dogs/train/dogs/._dog.749.jpg? [y]es, [n]o, [A]ll, [N]one, [r]ename: n\n",
            "replace cats_and_dogs/train/dogs/dog.985.jpg? [y]es, [n]o, [A]ll, [N]one, [r]ename: n\n",
            "replace __MACOSX/cats_and_dogs/train/dogs/._dog.985.jpg? [y]es, [n]o, [A]ll, [N]one, [r]ename: n\n",
            "replace cats_and_dogs/train/dogs/dog.952.jpg? [y]es, [n]o, [A]ll, [N]one, [r]ename: n\n",
            "replace __MACOSX/cats_and_dogs/train/dogs/._dog.952.jpg? [y]es, [n]o, [A]ll, [N]one, [r]ename: n\n",
            "replace cats_and_dogs/train/dogs/dog.946.jpg? [y]es, [n]o, [A]ll, [N]one, [r]ename: n\n",
            "replace __MACOSX/cats_and_dogs/train/dogs/._dog.946.jpg? [y]es, [n]o, [A]ll, [N]one, [r]ename: n\n",
            "replace cats_and_dogs/train/dogs/dog.211.jpg? [y]es, [n]o, [A]ll, [N]one, [r]ename: n\n",
            "replace __MACOSX/cats_and_dogs/train/dogs/._dog.211.jpg? [y]es, [n]o, [A]ll, [N]one, [r]ename: n\n",
            "replace cats_and_dogs/train/dogs/dog.577.jpg? [y]es, [n]o, [A]ll, [N]one, [r]ename: n\n",
            "replace __MACOSX/cats_and_dogs/train/dogs/._dog.577.jpg? [y]es, [n]o, [A]ll, [N]one, [r]ename: n\n",
            "replace cats_and_dogs/train/dogs/dog.563.jpg? [y]es, [n]o, [A]ll, [N]one, [r]ename: n\n",
            "replace __MACOSX/cats_and_dogs/train/dogs/._dog.563.jpg? [y]es, [n]o, [A]ll, [N]one, [r]ename: n\n",
            "replace cats_and_dogs/train/dogs/dog.205.jpg? [y]es, [n]o, [A]ll, [N]one, [r]ename: n\n",
            "replace __MACOSX/cats_and_dogs/train/dogs/._dog.205.jpg? [y]es, [n]o, [A]ll, [N]one, [r]ename: n\n",
            "replace cats_and_dogs/train/dogs/dog.239.jpg? [y]es, [n]o, [A]ll, [N]one, [r]ename: n\n",
            "replace __MACOSX/cats_and_dogs/train/dogs/._dog.239.jpg? [y]es, [n]o, [A]ll, [N]one, [r]ename: n\n",
            "replace cats_and_dogs/train/dogs/dog.588.jpg? [y]es, [n]o, [A]ll, [N]one, [r]ename: n\n",
            "replace __MACOSX/cats_and_dogs/train/dogs/._dog.588.jpg? [y]es, [n]o, [A]ll, [N]one, [r]ename: n\n",
            "replace cats_and_dogs/train/dogs/dog.365.jpg? [y]es, [n]o, [A]ll, [N]one, [r]ename: n\n",
            "replace __MACOSX/cats_and_dogs/train/dogs/._dog.365.jpg? [y]es, [n]o, [A]ll, [N]one, [r]ename: n\n",
            "replace cats_and_dogs/train/dogs/dog.403.jpg? [y]es, [n]o, [A]ll, [N]one, [r]ename: n\n",
            "replace __MACOSX/cats_and_dogs/train/dogs/._dog.403.jpg? [y]es, [n]o, [A]ll, [N]one, [r]ename: n\n",
            "replace cats_and_dogs/train/dogs/dog.417.jpg? [y]es, [n]o, [A]ll, [N]one, [r]ename: n\n",
            "replace __MACOSX/cats_and_dogs/train/dogs/._dog.417.jpg? [y]es, [n]o, [A]ll, [N]one, [r]ename: n\n",
            "replace cats_and_dogs/train/dogs/dog.371.jpg? [y]es, [n]o, [A]ll, [N]one, [r]ename: n\n",
            "replace __MACOSX/cats_and_dogs/train/dogs/._dog.371.jpg? [y]es, [n]o, [A]ll, [N]one, [r]ename: n\n",
            "replace cats_and_dogs/train/dogs/dog.359.jpg? [y]es, [n]o, [A]ll, [N]one, [r]ename: n\n",
            "replace __MACOSX/cats_and_dogs/train/dogs/._dog.359.jpg? [y]es, [n]o, [A]ll, [N]one, [r]ename: n\n",
            "replace cats_and_dogs/train/dogs/dog.601.jpg? [y]es, [n]o, [A]ll, [N]one, [r]ename: n\n",
            "replace __MACOSX/cats_and_dogs/train/dogs/._dog.601.jpg? [y]es, [n]o, [A]ll, [N]one, [r]ename: n\n",
            "replace cats_and_dogs/train/dogs/dog.167.jpg? [y]es, [n]o, [A]ll, [N]one, [r]ename: n\n",
            "replace __MACOSX/cats_and_dogs/train/dogs/._dog.167.jpg? [y]es, [n]o, [A]ll, [N]one, [r]ename: n\n",
            "replace cats_and_dogs/train/dogs/dog.173.jpg? [y]es, [n]o, [A]ll, [N]one, [r]ename: nn\n",
            "replace __MACOSX/cats_and_dogs/train/dogs/._dog.173.jpg? [y]es, [n]o, [A]ll, [N]one, [r]ename: n\n",
            "replace cats_and_dogs/train/dogs/dog.615.jpg? [y]es, [n]o, [A]ll, [N]one, [r]ename: n\n",
            "replace __MACOSX/cats_and_dogs/train/dogs/._dog.615.jpg? [y]es, [n]o, [A]ll, [N]one, [r]ename: "
          ]
        }
      ],
      "source": [
        "# Get project files\n",
        "!wget https://cdn.freecodecamp.org/project-data/cats-and-dogs/cats_and_dogs.zip\n",
        "\n",
        "!unzip cats_and_dogs.zip\n",
        "\n",
        "PATH = 'cats_and_dogs'\n",
        "\n",
        "train_dir = os.path.join(PATH, 'train')\n",
        "validation_dir = os.path.join(PATH, 'validation')\n",
        "test_dir = os.path.join(PATH, 'test')\n",
        "\n",
        "# Get number of files in each directory. The train and validation directories\n",
        "# each have the subdirecories \"dogs\" and \"cats\".\n",
        "total_train = sum([len(files) for r, d, files in os.walk(train_dir)])\n",
        "total_val = sum([len(files) for r, d, files in os.walk(validation_dir)])\n",
        "total_test = len(os.listdir(test_dir))\n",
        "\n",
        "# Variables for pre-processing and training.\n",
        "batch_size = 128\n",
        "epochs = 15\n",
        "IMG_HEIGHT = 150\n",
        "IMG_WIDTH = 150"
      ]
    },
    {
      "cell_type": "code",
      "execution_count": 12,
      "metadata": {
        "id": "EOJFeEfumns6",
        "outputId": "c938aa99-cc65-4696-af0e-bab813ee047a",
        "colab": {
          "base_uri": "https://localhost:8080/"
        }
      },
      "outputs": [
        {
          "output_type": "stream",
          "name": "stdout",
          "text": [
            "Found 2000 images belonging to 2 classes.\n",
            "Found 1000 images belonging to 2 classes.\n",
            "Found 50 images belonging to 1 classes.\n"
          ]
        }
      ],
      "source": [
        "# 3\n",
        "train_image_generator = ImageDataGenerator(rescale=1./255)\n",
        "validation_image_generator = ImageDataGenerator(rescale=1./255)\n",
        "test_image_generator = ImageDataGenerator(rescale=1./255)\n",
        "\n",
        "train_data_gen = train_image_generator.flow_from_directory(train_dir,target_size=(IMG_WIDTH,IMG_HEIGHT),batch_size=batch_size)\n",
        "val_data_gen = validation_image_generator.flow_from_directory(validation_dir,target_size=(IMG_WIDTH,IMG_HEIGHT),batch_size=batch_size)\n",
        "test_data_gen = test_image_generator.flow_from_directory(test_dir,target_size=(IMG_WIDTH,IMG_HEIGHT),\n",
        "                                                       batch_size=batch_size,shuffle=False,\n",
        "                                                       class_mode='binary',\n",
        "                                                       classes=['.'])"
      ]
    },
    {
      "cell_type": "code",
      "execution_count": null,
      "metadata": {
        "id": "TP0WA8j1mt7Q"
      },
      "outputs": [],
      "source": [
        "# 4\n",
        "def plotImages(images_arr, probabilities = False):\n",
        "    fig, axes = plt.subplots(len(images_arr), 1, figsize=(5,len(images_arr) * 3))\n",
        "    if probabilities is False:\n",
        "      for img, ax in zip( images_arr, axes):\n",
        "          ax.imshow(img)\n",
        "          ax.axis('off')\n",
        "    else:\n",
        "      for img, probability, ax in zip( images_arr, probabilities, axes):\n",
        "          ax.imshow(img)\n",
        "          ax.axis('off')\n",
        "          if probability > 0.5:\n",
        "              ax.set_title(\"%.2f\" % (probability*100) + \"% dog\")\n",
        "          else:\n",
        "              ax.set_title(\"%.2f\" % ((1-probability)*100) + \"% cat\")\n",
        "    plt.show()\n",
        "\n",
        "sample_training_images, _ = next(train_data_gen)\n",
        "plotImages(sample_training_images[:5])\n"
      ]
    },
    {
      "cell_type": "code",
      "execution_count": null,
      "metadata": {
        "id": "-32RRLY_3voj"
      },
      "outputs": [],
      "source": [
        "# 5\n",
        "train_image_generator = None\n"
      ]
    },
    {
      "cell_type": "code",
      "execution_count": null,
      "metadata": {
        "id": "pkwq2LFvqabS"
      },
      "outputs": [],
      "source": [
        "# 6\n",
        "train_data_gen = train_image_generator.flow_from_directory(batch_size=batch_size,\n",
        "                                                     directory=train_dir,\n",
        "                                                     target_size=(IMG_HEIGHT, IMG_WIDTH),\n",
        "                                                     class_mode='binary')\n",
        "\n",
        "augmented_images = [train_data_gen[0][0][0] for i in range(5)]\n",
        "\n",
        "plotImages(augmented_images)"
      ]
    },
    {
      "cell_type": "code",
      "execution_count": null,
      "metadata": {
        "id": "k8aZkwMam4UY"
      },
      "outputs": [],
      "source": [
        "# 7\n",
        "model = Sequential()\n",
        "\n",
        "\n",
        "\n",
        "\n",
        "\n",
        "\n",
        "\n",
        "\n",
        "model.summary()"
      ]
    },
    {
      "cell_type": "code",
      "execution_count": null,
      "metadata": {
        "id": "1niQDz5x6K7y"
      },
      "outputs": [],
      "source": [
        "# 8\n",
        "history = None"
      ]
    },
    {
      "cell_type": "code",
      "execution_count": null,
      "metadata": {
        "id": "5xS51mB56OAC"
      },
      "outputs": [],
      "source": [
        "# 9\n",
        "acc = history.history['accuracy']\n",
        "val_acc = history.history['val_accuracy']\n",
        "\n",
        "loss = history.history['loss']\n",
        "val_loss = history.history['val_loss']\n",
        "\n",
        "epochs_range = range(epochs)\n",
        "\n",
        "plt.figure(figsize=(8, 8))\n",
        "plt.subplot(1, 2, 1)\n",
        "plt.plot(epochs_range, acc, label='Training Accuracy')\n",
        "plt.plot(epochs_range, val_acc, label='Validation Accuracy')\n",
        "plt.legend(loc='lower right')\n",
        "plt.title('Training and Validation Accuracy')\n",
        "\n",
        "plt.subplot(1, 2, 2)\n",
        "plt.plot(epochs_range, loss, label='Training Loss')\n",
        "plt.plot(epochs_range, val_loss, label='Validation Loss')\n",
        "plt.legend(loc='upper right')\n",
        "plt.title('Training and Validation Loss')\n",
        "plt.show()"
      ]
    },
    {
      "cell_type": "code",
      "execution_count": null,
      "metadata": {
        "id": "vYrSifOit2aK"
      },
      "outputs": [],
      "source": []
    },
    {
      "cell_type": "code",
      "execution_count": null,
      "metadata": {
        "id": "GYUyM6VytqJn"
      },
      "outputs": [],
      "source": []
    },
    {
      "cell_type": "code",
      "execution_count": null,
      "metadata": {
        "id": "4IH86Ux_u7TZ"
      },
      "outputs": [],
      "source": [
        "# 11\n",
        "answers =  [1, 0, 0, 1, 0, 0, 0, 0, 1, 1, 0,\n",
        "            1, 0, 1, 0, 1, 1, 0, 1, 1, 0, 0,\n",
        "            1, 1, 1, 1, 1, 0, 0, 0, 0, 0, 1,\n",
        "            1, 0, 1, 1, 1, 1, 0, 1, 0, 1, 1,\n",
        "            0, 0, 0, 0, 0, 0]\n",
        "\n",
        "correct = 0\n",
        "\n",
        "for probability, answer in zip(probabilities, answers):\n",
        "  if round(probability) == answer:\n",
        "    correct +=1\n",
        "\n",
        "percentage_identified = (correct / len(answers)) * 100\n",
        "\n",
        "passed_challenge = percentage_identified >= 63\n",
        "\n",
        "print(f\"Your model correctly identified {round(percentage_identified, 2)}% of the images of cats and dogs.\")\n",
        "\n",
        "if passed_challenge:\n",
        "  print(\"You passed the challenge!\")\n",
        "else:\n",
        "  print(\"You haven't passed yet. Your model should identify at least 63% of the images. Keep trying. You will get it!\")"
      ]
    }
  ],
  "metadata": {
    "colab": {
      "name": "fcc_cat_dog.ipynb",
      "provenance": []
    },
    "kernelspec": {
      "display_name": "Python 3",
      "name": "python3"
    }
  },
  "nbformat": 4,
  "nbformat_minor": 0
}